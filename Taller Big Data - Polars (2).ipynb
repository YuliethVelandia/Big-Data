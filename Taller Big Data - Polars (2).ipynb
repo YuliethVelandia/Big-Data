{
 "cells": [
  {
   "cell_type": "markdown",
   "id": "93c1d5a3",
   "metadata": {},
   "source": [
    "# Taller Big Data - Polars\n",
    " Hans Rodríguez Cantor  \n",
    " Yulieth Velandia Rojas"
   ]
  },
  {
   "cell_type": "markdown",
   "id": "21eb851a",
   "metadata": {},
   "source": [
    "\n",
    "## Introducción\n",
    "Este taller tiene como objetivo hacer uso de las librería polars en python  para realizar diferentes tipos de análisis en la data obtenida del censo nacional de población y vivienda realizado en el año 2018. La información presentada es del municipio de Bogotá."
   ]
  },
  {
   "cell_type": "markdown",
   "id": "f13524e4",
   "metadata": {},
   "source": [
    "### Carga de información y librerías"
   ]
  },
  {
   "cell_type": "code",
   "execution_count": 18,
   "id": "8f776787",
   "metadata": {},
   "outputs": [
    {
     "name": "stdout",
     "output_type": "stream",
     "text": [
      "Requirement already satisfied: polars in c:\\users\\yulie\\anaconda3\\lib\\site-packages (0.17.15)\n"
     ]
    }
   ],
   "source": [
    "!pip install polars"
   ]
  },
  {
   "cell_type": "code",
   "execution_count": 19,
   "id": "57b699a4",
   "metadata": {},
   "outputs": [
    {
     "name": "stdout",
     "output_type": "stream",
     "text": [
      "Python 3.9.13\n"
     ]
    }
   ],
   "source": [
    "!python --version"
   ]
  },
  {
   "cell_type": "code",
   "execution_count": 20,
   "id": "49dca21b",
   "metadata": {},
   "outputs": [
    {
     "name": "stdout",
     "output_type": "stream",
     "text": [
      "Name: polars\n",
      "Version: 0.17.15\n",
      "Summary: Blazingly fast DataFrame library\n",
      "Home-page: \n",
      "Author: \n",
      "Author-email: Ritchie Vink <ritchie46@gmail.com>\n",
      "License: \n",
      "Location: c:\\users\\yulie\\anaconda3\\lib\\site-packages\n",
      "Requires: \n",
      "Required-by: \n"
     ]
    }
   ],
   "source": [
    "!pip show polars"
   ]
  },
  {
   "cell_type": "code",
   "execution_count": 21,
   "id": "e0b05cb8",
   "metadata": {},
   "outputs": [
    {
     "name": "stdout",
     "output_type": "stream",
     "text": [
      "Requirement already satisfied: xlsx2csv in c:\\users\\yulie\\anaconda3\\lib\\site-packages (0.8.1)\n"
     ]
    }
   ],
   "source": [
    "!pip install xlsx2csv"
   ]
  },
  {
   "cell_type": "code",
   "execution_count": 22,
   "id": "3fee82d7",
   "metadata": {},
   "outputs": [],
   "source": [
    "import polars as pl"
   ]
  },
  {
   "cell_type": "code",
   "execution_count": 23,
   "id": "c80d358d",
   "metadata": {},
   "outputs": [],
   "source": [
    "import pyarrow as pa\n",
    "import os\n",
    "import pandas as pd"
   ]
  },
  {
   "cell_type": "code",
   "execution_count": 24,
   "id": "77f19148",
   "metadata": {},
   "outputs": [],
   "source": [
    "os.chdir(r\"C:\\Users\\yulie\\OneDrive\\Documentos\\Semestre 3\\Big Data\\Censo_unificado\\parquet\")\n",
    "os.listdir()\n",
    "df_personas_lz = pl.scan_parquet(\"personas/*.parquet\")\n",
    "df_viviendas_lz=pl.scan_parquet(\"viviendas/*.parquet\")\n",
    "df_hogares_lz=pl.scan_parquet(\"hogares/*.parquet\")"
   ]
  },
  {
   "cell_type": "markdown",
   "id": "c371a87c",
   "metadata": {},
   "source": [
    "### 1. Calcular la proporción de indígenas, afrocolombianos por área urbana y rural\n",
    "Para realizar este análisis, se hace uso de la variable UA_CLASE de la base de viviendas, que es la que nos presenta la información de zona. Debido a que presenta 4 opciones, se parametriza para agrupar los valores de las variables en urbana o rural."
   ]
  },
  {
   "cell_type": "code",
   "execution_count": 25,
   "id": "e752717f",
   "metadata": {},
   "outputs": [],
   "source": [
    "grupo_etnia = pl.read_excel(\"C:\\\\Users\\\\yulie\\\\OneDrive\\\\Documentos\\\\Semestre 3\\\\Big Data\\\\Censo_unificado\\\\Grupo_etnico.xlsx\")\n",
    "tipo_poblacion = pl.read_excel(\"C:\\\\Users\\\\yulie\\\\OneDrive\\\\Documentos\\\\Semestre 3\\\\Big Data\\\\Censo_unificado\\\\Tipo_Población.xlsx\")"
   ]
  },
  {
   "cell_type": "markdown",
   "id": "a1229410",
   "metadata": {},
   "source": [
    "Se realizan operaciones join para unir las tablas de vivienda y personas con sus respectivos diccionarios de datos para determinar el tipo de área y el grupo étnico."
   ]
  },
  {
   "cell_type": "code",
   "execution_count": 26,
   "id": "7cfd64f4",
   "metadata": {},
   "outputs": [],
   "source": [
    "consulta1 = df_viviendas_lz.select(\"U_DPTO\",\"COD_ENCUESTAS\", \"UA_CLASE\").filter((pl.col(\"U_DPTO\") == \"11\")).collect()\n",
    "consulta1_area=consulta1.join(tipo_poblacion, on=\"UA_CLASE\")\n",
    "consulta2 = df_personas_lz.select(\"U_DPTO\",\"COD_ENCUESTAS\",\"PA1_GRP_ETNIC\").filter((pl.col(\"U_DPTO\") == \"11\")).collect()\n",
    "consulta2_etnia=consulta2.join(grupo_etnia, on=\"PA1_GRP_ETNIC\")\n",
    "areaxetnia = consulta2_etnia.join(consulta1_area, on=\"COD_ENCUESTAS\")"
   ]
  },
  {
   "cell_type": "markdown",
   "id": "b44943ee",
   "metadata": {},
   "source": [
    "Definido lo anterior, se procede a hacer el pipeline que permite identificar cual es la cantidad de población indígenas y afrocolombiana del área urbana y del área rural."
   ]
  },
  {
   "cell_type": "code",
   "execution_count": 27,
   "id": "54e3650c",
   "metadata": {},
   "outputs": [],
   "source": [
    "area_etnia= areaxetnia.select(\"COD_ENCUESTAS\",\"PA1_GRP_ETNIC\",\"Nombre_Grupo\",\"Zona\").filter((pl.col(\"PA1_GRP_ETNIC\")==1)|(pl.col(\"PA1_GRP_ETNIC\")==5)).groupby([\"Zona\",\"Nombre_Grupo\"]).agg(pl.count(\"COD_ENCUESTAS\").alias(\"Total\"))\n",
    "area_etnias=area_etnia.pivot(\"Total\", index=\"Zona\", columns=\"Nombre_Grupo\",aggregate_function=\"first\")\n",
    "area_etnias=pl.DataFrame.to_pandas(area_etnias)"
   ]
  },
  {
   "cell_type": "markdown",
   "id": "8896505f",
   "metadata": {},
   "source": [
    "Finalmente, se agrega la proporción de población indigena y afrodescendiente."
   ]
  },
  {
   "cell_type": "code",
   "execution_count": 28,
   "id": "abbe5c8a",
   "metadata": {},
   "outputs": [
    {
     "data": {
      "text/html": [
       "<div>\n",
       "<style scoped>\n",
       "    .dataframe tbody tr th:only-of-type {\n",
       "        vertical-align: middle;\n",
       "    }\n",
       "\n",
       "    .dataframe tbody tr th {\n",
       "        vertical-align: top;\n",
       "    }\n",
       "\n",
       "    .dataframe thead th {\n",
       "        text-align: right;\n",
       "    }\n",
       "</style>\n",
       "<table border=\"1\" class=\"dataframe\">\n",
       "  <thead>\n",
       "    <tr style=\"text-align: right;\">\n",
       "      <th></th>\n",
       "      <th>Zona</th>\n",
       "      <th>Afrodescendiente</th>\n",
       "      <th>\\tIndígena</th>\n",
       "      <th>Propoción Indígena</th>\n",
       "      <th>Proporción Afrodescendiente</th>\n",
       "    </tr>\n",
       "  </thead>\n",
       "  <tbody>\n",
       "    <tr>\n",
       "      <th>0</th>\n",
       "      <td>Urbana</td>\n",
       "      <td>65538</td>\n",
       "      <td>18983</td>\n",
       "      <td>99.58%</td>\n",
       "      <td>99.82%</td>\n",
       "    </tr>\n",
       "    <tr>\n",
       "      <th>1</th>\n",
       "      <td>Rural</td>\n",
       "      <td>118</td>\n",
       "      <td>80</td>\n",
       "      <td>0.42%</td>\n",
       "      <td>0.18%</td>\n",
       "    </tr>\n",
       "  </tbody>\n",
       "</table>\n",
       "</div>"
      ],
      "text/plain": [
       "     Zona  Afrodescendiente  \\tIndígena Propoción Indígena  \\\n",
       "0  Urbana             65538       18983             99.58%   \n",
       "1   Rural               118          80              0.42%   \n",
       "\n",
       "  Proporción Afrodescendiente  \n",
       "0                      99.82%  \n",
       "1                       0.18%  "
      ]
     },
     "execution_count": 28,
     "metadata": {},
     "output_type": "execute_result"
    }
   ],
   "source": [
    "# Calcular las sumas totales\n",
    "total_indigena = area_etnias[\"\\tIndígena\"].sum()\n",
    "total_afrodescendiente = area_etnias[\"Afrodescendiente\"].sum()\n",
    "\n",
    "# Calcular las proporciones\n",
    "area_etnias[\"Propoción Indígena\"] = area_etnias[\"\\tIndígena\"] / total_indigena * 100\n",
    "area_etnias[\"Proporción Afrodescendiente\"] = area_etnias[\"Afrodescendiente\"] / total_afrodescendiente * 100\n",
    "\n",
    "# Formato de porcentaje\n",
    "area_etnias[\"Propoción Indígena\"] = area_etnias[\"Propoción Indígena\"].map(\"{:.2f}%\".format)\n",
    "area_etnias[\"Proporción Afrodescendiente\"] = area_etnias[\"Proporción Afrodescendiente\"].map(\"{:.2f}%\".format)\n",
    "\n",
    "area_etnias"
   ]
  },
  {
   "cell_type": "markdown",
   "id": "2251c1ea",
   "metadata": {},
   "source": [
    "### 2. Utilice la tabla de viviendas y calcule la tabla de frecuencias y relativas\n",
    "\n",
    "Para este análisis se debe hacer uso los dos grupos de datos correspondientes a viviendas y personas."
   ]
  },
  {
   "cell_type": "code",
   "execution_count": 29,
   "id": "6030cb8d",
   "metadata": {},
   "outputs": [],
   "source": [
    "consulta_estrato = df_viviendas_lz.select(\"COD_ENCUESTAS\",\"VA1_ESTRATO\",\"U_DPTO\").filter((pl.col(\"U_DPTO\") == \"11\")).collect()\n",
    "q_personas=df_personas_lz.select(\"COD_ENCUESTAS\",\"U_DPTO\").filter((pl.col(\"U_DPTO\") == \"11\")).collect()\n",
    "consulta_est=consulta_estrato.join(q_personas, on=\"COD_ENCUESTAS\")"
   ]
  },
  {
   "cell_type": "code",
   "execution_count": 30,
   "id": "73e928ba",
   "metadata": {},
   "outputs": [],
   "source": [
    "consulta_estratos = (consulta_est.select(\"VA1_ESTRATO\").filter((pl.col(\"VA1_ESTRATO\") != 9) & (pl.col(\"VA1_ESTRATO\") != 0) & (~pl.col(\"VA1_ESTRATO\").is_null()))\n",
    "    .groupby(\"VA1_ESTRATO\").agg(pl.count()).sort(\"VA1_ESTRATO\", descending=True))"
   ]
  },
  {
   "cell_type": "code",
   "execution_count": 31,
   "id": "6485ace2",
   "metadata": {},
   "outputs": [],
   "source": [
    "consulta_estratos3=pl.DataFrame.to_pandas(consulta_estratos)"
   ]
  },
  {
   "cell_type": "code",
   "execution_count": 32,
   "id": "75cce918",
   "metadata": {},
   "outputs": [
    {
     "data": {
      "text/html": [
       "<div>\n",
       "<style scoped>\n",
       "    .dataframe tbody tr th:only-of-type {\n",
       "        vertical-align: middle;\n",
       "    }\n",
       "\n",
       "    .dataframe tbody tr th {\n",
       "        vertical-align: top;\n",
       "    }\n",
       "\n",
       "    .dataframe thead th {\n",
       "        text-align: right;\n",
       "    }\n",
       "</style>\n",
       "<table border=\"1\" class=\"dataframe\">\n",
       "  <thead>\n",
       "    <tr style=\"text-align: right;\">\n",
       "      <th></th>\n",
       "      <th>VA1_ESTRATO</th>\n",
       "      <th>count</th>\n",
       "      <th>Frecuencia Absoluta</th>\n",
       "      <th>Frecuencia Relativa</th>\n",
       "    </tr>\n",
       "  </thead>\n",
       "  <tbody>\n",
       "    <tr>\n",
       "      <th>0</th>\n",
       "      <td>6.0</td>\n",
       "      <td>149073</td>\n",
       "      <td>149073</td>\n",
       "      <td>2%</td>\n",
       "    </tr>\n",
       "    <tr>\n",
       "      <th>1</th>\n",
       "      <td>5.0</td>\n",
       "      <td>211459</td>\n",
       "      <td>360532</td>\n",
       "      <td>5%</td>\n",
       "    </tr>\n",
       "    <tr>\n",
       "      <th>2</th>\n",
       "      <td>4.0</td>\n",
       "      <td>672543</td>\n",
       "      <td>1033075</td>\n",
       "      <td>15%</td>\n",
       "    </tr>\n",
       "    <tr>\n",
       "      <th>3</th>\n",
       "      <td>3.0</td>\n",
       "      <td>2411701</td>\n",
       "      <td>3444776</td>\n",
       "      <td>48%</td>\n",
       "    </tr>\n",
       "    <tr>\n",
       "      <th>4</th>\n",
       "      <td>2.0</td>\n",
       "      <td>3002092</td>\n",
       "      <td>6446868</td>\n",
       "      <td>91%</td>\n",
       "    </tr>\n",
       "    <tr>\n",
       "      <th>5</th>\n",
       "      <td>1.0</td>\n",
       "      <td>671690</td>\n",
       "      <td>7118558</td>\n",
       "      <td>100%</td>\n",
       "    </tr>\n",
       "  </tbody>\n",
       "</table>\n",
       "</div>"
      ],
      "text/plain": [
       "   VA1_ESTRATO    count  Frecuencia Absoluta Frecuencia Relativa\n",
       "0          6.0   149073               149073                  2%\n",
       "1          5.0   211459               360532                  5%\n",
       "2          4.0   672543              1033075                 15%\n",
       "3          3.0  2411701              3444776                 48%\n",
       "4          2.0  3002092              6446868                 91%\n",
       "5          1.0   671690              7118558                100%"
      ]
     },
     "execution_count": 32,
     "metadata": {},
     "output_type": "execute_result"
    }
   ],
   "source": [
    "# Calcular la suma total de la columna \"count\"\n",
    "total = consulta_estratos3[\"count\"].sum()\n",
    "\n",
    "# Calcular la columna \"Frecuencia Absoluta\"\n",
    "consulta_estratos3[\"Frecuencia Absoluta\"] = consulta_estratos3[\"count\"].cumsum()\n",
    "\n",
    "# Calcular la columna \"Frecuencia Relativa\"\n",
    "consulta_estratos3[\"Frecuencia Relativa\"] = consulta_estratos3[\"Frecuencia Absoluta\"] / total * 100\n",
    "consulta_estratos3[\"Frecuencia Relativa\"] = consulta_estratos3[\"Frecuencia Relativa\"].map(\"{:.0f}%\".format)\n",
    "\n",
    "consulta_estratos3\n"
   ]
  },
  {
   "cell_type": "markdown",
   "id": "60922bb6",
   "metadata": {},
   "source": [
    "### 3. Calcule la proporción de bogotanos mayores (estricto) de 25 años que han alcanzado el siguiente máximo nivel educativo: primaria o menos, bachiller,  técnica profesional/tecnológica o educación superior o posgrado:"
   ]
  },
  {
   "cell_type": "code",
   "execution_count": 33,
   "id": "23bd2876",
   "metadata": {},
   "outputs": [],
   "source": [
    "consulta_educacion = df_personas_lz.select(\"U_DPTO\",\"P_NIVEL_ANOSR\", \"P_EDADR\").filter((pl.col(\"U_DPTO\") == \"11\")&(pl.col(\"P_EDADR\") >6)&(pl.col(\"P_NIVEL_ANOSR\") != 99)&(pl.col(\"P_NIVEL_ANOSR\") != 10)).groupby(\"P_NIVEL_ANOSR\").agg(pl.count()).collect()"
   ]
  },
  {
   "cell_type": "code",
   "execution_count": 34,
   "id": "7d6d6c16",
   "metadata": {},
   "outputs": [],
   "source": [
    "categoria=tipo_poblacion = pl.read_excel(\"C:\\\\Users\\\\yulie\\\\OneDrive\\\\Documentos\\\\Semestre 3\\\\Big Data\\\\Censo_unificado\\\\Nivel_educativo.xlsx\")"
   ]
  },
  {
   "cell_type": "code",
   "execution_count": 35,
   "id": "ec7542f3",
   "metadata": {},
   "outputs": [],
   "source": [
    "nivel=consulta_educacion.join(categoria, on=\"P_NIVEL_ANOSR\")"
   ]
  },
  {
   "cell_type": "code",
   "execution_count": 36,
   "id": "e9230a9b",
   "metadata": {},
   "outputs": [],
   "source": [
    "total_nivel = nivel.groupby(\"Grupos\").agg(pl.sum(\"count\").alias(\"Total_nivel\"))\n",
    "total_nivel_df=pl.DataFrame.to_pandas(total_nivel)"
   ]
  },
  {
   "cell_type": "code",
   "execution_count": 37,
   "id": "a564eeaf",
   "metadata": {},
   "outputs": [
    {
     "data": {
      "text/html": [
       "<div>\n",
       "<style scoped>\n",
       "    .dataframe tbody tr th:only-of-type {\n",
       "        vertical-align: middle;\n",
       "    }\n",
       "\n",
       "    .dataframe tbody tr th {\n",
       "        vertical-align: top;\n",
       "    }\n",
       "\n",
       "    .dataframe thead th {\n",
       "        text-align: right;\n",
       "    }\n",
       "</style>\n",
       "<table border=\"1\" class=\"dataframe\">\n",
       "  <thead>\n",
       "    <tr style=\"text-align: right;\">\n",
       "      <th></th>\n",
       "      <th>Grupos</th>\n",
       "      <th>Total_nivel</th>\n",
       "      <th>Proporción</th>\n",
       "    </tr>\n",
       "  </thead>\n",
       "  <tbody>\n",
       "    <tr>\n",
       "      <th>0</th>\n",
       "      <td>Bachiller</td>\n",
       "      <td>1451412</td>\n",
       "      <td>39%</td>\n",
       "    </tr>\n",
       "    <tr>\n",
       "      <th>1</th>\n",
       "      <td>Primaria o menos</td>\n",
       "      <td>774871</td>\n",
       "      <td>21%</td>\n",
       "    </tr>\n",
       "    <tr>\n",
       "      <th>2</th>\n",
       "      <td>Educación Superior</td>\n",
       "      <td>1509993</td>\n",
       "      <td>40%</td>\n",
       "    </tr>\n",
       "  </tbody>\n",
       "</table>\n",
       "</div>"
      ],
      "text/plain": [
       "               Grupos  Total_nivel Proporción\n",
       "0           Bachiller      1451412        39%\n",
       "1    Primaria o menos       774871        21%\n",
       "2  Educación Superior      1509993        40%"
      ]
     },
     "execution_count": 37,
     "metadata": {},
     "output_type": "execute_result"
    }
   ],
   "source": [
    "# Calcular el total\n",
    "total = total_nivel_df[\"Total_nivel\"].sum()\n",
    "\n",
    "# Calcular la columna \"Proporción\"\n",
    "total_nivel_df[\"Proporción\"] = total_nivel_df[\"Total_nivel\"] / total * 100\n",
    "total_nivel_df[\"Proporción\"] = total_nivel_df[\"Proporción\"].map(\"{:.0f}%\".format)\n",
    "\n",
    "total_nivel_df"
   ]
  },
  {
   "cell_type": "markdown",
   "id": "471ab15e",
   "metadata": {},
   "source": [
    "### 4. Calcule el número de personas por hogar por nivel socioeconómico\n",
    "El siguiente análisis requiere usar el conjunto relacionado a hogares y el relacionado a viviendas, para finalmente calcular el promedio de personas por hogar en cada estrato."
   ]
  },
  {
   "cell_type": "code",
   "execution_count": 38,
   "id": "22f10ac9",
   "metadata": {},
   "outputs": [],
   "source": [
    "consulta_hogares=df_hogares_lz.select(\"COD_ENCUESTAS\",\"U_DPTO\",\"HA_TOT_PER\").filter((pl.col(\"U_DPTO\") == \"11\")).collect()\n",
    "consulta_pxh=consulta_estrato.join(consulta_hogares, on=\"COD_ENCUESTAS\")"
   ]
  },
  {
   "cell_type": "code",
   "execution_count": 39,
   "id": "edb39982",
   "metadata": {},
   "outputs": [],
   "source": [
    "consulta_pxhogar = (consulta_pxh.select(\"VA1_ESTRATO\",\"HA_TOT_PER\").filter((pl.col(\"VA1_ESTRATO\") != 9) & (pl.col(\"VA1_ESTRATO\") != 0) & (~pl.col(\"VA1_ESTRATO\").is_null()))\n",
    "    .groupby(\"VA1_ESTRATO\").agg(pl.col(\"HA_TOT_PER\").mean()).sort(\"VA1_ESTRATO\", descending=True))"
   ]
  },
  {
   "cell_type": "code",
   "execution_count": 40,
   "id": "0d4e7f86",
   "metadata": {},
   "outputs": [
    {
     "data": {
      "text/html": [
       "<div><style>\n",
       ".dataframe > thead > tr > th,\n",
       ".dataframe > tbody > tr > td {\n",
       "  text-align: right;\n",
       "}\n",
       "</style>\n",
       "<small>shape: (6, 2)</small><table border=\"1\" class=\"dataframe\"><thead><tr><th>VA1_ESTRATO</th><th>HA_TOT_PER</th></tr><tr><td>f64</td><td>f64</td></tr></thead><tbody><tr><td>6.0</td><td>2.420684</td></tr><tr><td>5.0</td><td>2.517759</td></tr><tr><td>4.0</td><td>2.503305</td></tr><tr><td>3.0</td><td>2.809102</td></tr><tr><td>2.0</td><td>2.973782</td></tr><tr><td>1.0</td><td>3.054316</td></tr></tbody></table></div>"
      ],
      "text/plain": [
       "shape: (6, 2)\n",
       "┌─────────────┬────────────┐\n",
       "│ VA1_ESTRATO ┆ HA_TOT_PER │\n",
       "│ ---         ┆ ---        │\n",
       "│ f64         ┆ f64        │\n",
       "╞═════════════╪════════════╡\n",
       "│ 6.0         ┆ 2.420684   │\n",
       "│ 5.0         ┆ 2.517759   │\n",
       "│ 4.0         ┆ 2.503305   │\n",
       "│ 3.0         ┆ 2.809102   │\n",
       "│ 2.0         ┆ 2.973782   │\n",
       "│ 1.0         ┆ 3.054316   │\n",
       "└─────────────┴────────────┘"
      ]
     },
     "execution_count": 40,
     "metadata": {},
     "output_type": "execute_result"
    }
   ],
   "source": [
    "consulta_pxhogar"
   ]
  },
  {
   "cell_type": "markdown",
   "id": "219312b6",
   "metadata": {},
   "source": [
    "### 5. Calcular la siguiente tabla:\n",
    "\n",
    "Para hacer el cálculo de la tabla solicitada, se realiza un join de las tablas de personas y viviendas por el ID de la encuesta:"
   ]
  },
  {
   "cell_type": "code",
   "execution_count": 41,
   "id": "f8b9f6cd",
   "metadata": {},
   "outputs": [],
   "source": [
    "consulta_edu2= df_personas_lz.select(\"U_DPTO\",\"P_NIVEL_ANOSR\", \"COD_ENCUESTAS\").filter((pl.col(\"U_DPTO\") == \"11\")&(pl.col(\"P_NIVEL_ANOSR\") != 99)&(pl.col(\"P_NIVEL_ANOSR\") != 10))\n",
    "consulta_estrato2 = df_viviendas_lz.select(\"COD_ENCUESTAS\",\"VA1_ESTRATO\",\"U_DPTO\").filter((pl.col(\"U_DPTO\") == \"11\"))\n",
    "nivelxestrato=consulta_edu2.join(consulta_estrato2, on=\"COD_ENCUESTAS\").collect()"
   ]
  },
  {
   "cell_type": "code",
   "execution_count": 42,
   "id": "be308c1d",
   "metadata": {},
   "outputs": [],
   "source": [
    "estrato = pl.read_excel(\"C:\\\\Users\\\\yulie\\\\OneDrive\\\\Documentos\\\\Semestre 3\\\\Big Data\\\\Censo_unificado\\\\Estratos.xlsx\")\n",
    "consulta_nxe=nivelxestrato.join(categoria, on=\"P_NIVEL_ANOSR\")\n",
    "consulta_nxe2=consulta_nxe.join(estrato, on=\"VA1_ESTRATO\")\n",
    "total_nxe3 = consulta_nxe2.select(\"ESTRATO\",\"VA1_ESTRATO\",\"COD_ENCUESTAS\",\"Grupos\").filter((pl.col(\"VA1_ESTRATO\") != 9) & (pl.col(\"VA1_ESTRATO\") != 0) & (~pl.col(\"VA1_ESTRATO\").is_null())).groupby([\"Grupos\", \"ESTRATO\"]).agg(pl.count(\"COD_ENCUESTAS\").alias(\"Total\"))\n",
    "total_nxe3 = total_nxe3.sort(\"ESTRATO\", descending=True)"
   ]
  },
  {
   "cell_type": "code",
   "execution_count": 43,
   "id": "5fd8d43c",
   "metadata": {
    "scrolled": true
   },
   "outputs": [],
   "source": [
    "Tabla_total = total_nxe3.pivot(\"Total\", index=\"Grupos\",columns=\"ESTRATO\",aggregate_function=\"first\")\n",
    "Tabla_total_df=pl.DataFrame.to_pandas(Tabla_total)"
   ]
  },
  {
   "cell_type": "markdown",
   "id": "94ce2d23",
   "metadata": {},
   "source": [
    "El resultado del análisis realizado muestra la siguiente tabla, donde se muestra la frecuencia del nivel educativo (Frec_est) y la proporción de la misma (Freq_r_)"
   ]
  },
  {
   "cell_type": "code",
   "execution_count": 44,
   "id": "45824ee8",
   "metadata": {},
   "outputs": [
    {
     "data": {
      "text/html": [
       "<div>\n",
       "<style scoped>\n",
       "    .dataframe tbody tr th:only-of-type {\n",
       "        vertical-align: middle;\n",
       "    }\n",
       "\n",
       "    .dataframe tbody tr th {\n",
       "        vertical-align: top;\n",
       "    }\n",
       "\n",
       "    .dataframe thead th {\n",
       "        text-align: right;\n",
       "    }\n",
       "</style>\n",
       "<table border=\"1\" class=\"dataframe\">\n",
       "  <thead>\n",
       "    <tr style=\"text-align: right;\">\n",
       "      <th></th>\n",
       "      <th>Grupos</th>\n",
       "      <th>Estrato_6</th>\n",
       "      <th>Frecuencia absoluta e6</th>\n",
       "      <th>Frecuencia relativa e6</th>\n",
       "      <th>Estrato_5</th>\n",
       "      <th>Frecuencia absoluta e5</th>\n",
       "      <th>Frecuencia relativa e5</th>\n",
       "      <th>Estrato_4</th>\n",
       "      <th>Frecuencia absoluta e4</th>\n",
       "      <th>Frecuencia relativa e4</th>\n",
       "      <th>Estrato_3</th>\n",
       "      <th>Frecuencia absoluta e3</th>\n",
       "      <th>Frecuencia relativa e3</th>\n",
       "      <th>Estrato_2</th>\n",
       "      <th>Frecuencia absoluta e2</th>\n",
       "      <th>Frecuencia relativa e2</th>\n",
       "      <th>Estrato_1</th>\n",
       "      <th>Frecuencia absoluta e1</th>\n",
       "      <th>Frecuencia relativa e1</th>\n",
       "    </tr>\n",
       "  </thead>\n",
       "  <tbody>\n",
       "    <tr>\n",
       "      <th>0</th>\n",
       "      <td>Educación Superior</td>\n",
       "      <td>103154</td>\n",
       "      <td>103154</td>\n",
       "      <td>0.754309</td>\n",
       "      <td>144597</td>\n",
       "      <td>144597</td>\n",
       "      <td>0.745699</td>\n",
       "      <td>437034</td>\n",
       "      <td>437034</td>\n",
       "      <td>0.708005</td>\n",
       "      <td>966444</td>\n",
       "      <td>966444</td>\n",
       "      <td>0.437356</td>\n",
       "      <td>632918</td>\n",
       "      <td>632918</td>\n",
       "      <td>0.234235</td>\n",
       "      <td>74897</td>\n",
       "      <td>74897</td>\n",
       "      <td>0.127382</td>\n",
       "    </tr>\n",
       "    <tr>\n",
       "      <th>1</th>\n",
       "      <td>Bachiller</td>\n",
       "      <td>21613</td>\n",
       "      <td>124767</td>\n",
       "      <td>0.912353</td>\n",
       "      <td>32667</td>\n",
       "      <td>177264</td>\n",
       "      <td>0.914165</td>\n",
       "      <td>122560</td>\n",
       "      <td>559594</td>\n",
       "      <td>0.906555</td>\n",
       "      <td>841462</td>\n",
       "      <td>1807906</td>\n",
       "      <td>0.818153</td>\n",
       "      <td>1337943</td>\n",
       "      <td>1970861</td>\n",
       "      <td>0.729391</td>\n",
       "      <td>302657</td>\n",
       "      <td>377554</td>\n",
       "      <td>0.642128</td>\n",
       "    </tr>\n",
       "    <tr>\n",
       "      <th>2</th>\n",
       "      <td>Primaria o menos</td>\n",
       "      <td>11986</td>\n",
       "      <td>136753</td>\n",
       "      <td>1.000000</td>\n",
       "      <td>16644</td>\n",
       "      <td>193908</td>\n",
       "      <td>1.000000</td>\n",
       "      <td>57681</td>\n",
       "      <td>617275</td>\n",
       "      <td>1.000000</td>\n",
       "      <td>401834</td>\n",
       "      <td>2209740</td>\n",
       "      <td>1.000000</td>\n",
       "      <td>731204</td>\n",
       "      <td>2702065</td>\n",
       "      <td>1.000000</td>\n",
       "      <td>210419</td>\n",
       "      <td>587973</td>\n",
       "      <td>1.000000</td>\n",
       "    </tr>\n",
       "  </tbody>\n",
       "</table>\n",
       "</div>"
      ],
      "text/plain": [
       "               Grupos  Estrato_6  Frecuencia absoluta e6  \\\n",
       "0  Educación Superior     103154                  103154   \n",
       "1           Bachiller      21613                  124767   \n",
       "2    Primaria o menos      11986                  136753   \n",
       "\n",
       "   Frecuencia relativa e6  Estrato_5  Frecuencia absoluta e5  \\\n",
       "0                0.754309     144597                  144597   \n",
       "1                0.912353      32667                  177264   \n",
       "2                1.000000      16644                  193908   \n",
       "\n",
       "   Frecuencia relativa e5  Estrato_4  Frecuencia absoluta e4  \\\n",
       "0                0.745699     437034                  437034   \n",
       "1                0.914165     122560                  559594   \n",
       "2                1.000000      57681                  617275   \n",
       "\n",
       "   Frecuencia relativa e4  Estrato_3  Frecuencia absoluta e3  \\\n",
       "0                0.708005     966444                  966444   \n",
       "1                0.906555     841462                 1807906   \n",
       "2                1.000000     401834                 2209740   \n",
       "\n",
       "   Frecuencia relativa e3  Estrato_2  Frecuencia absoluta e2  \\\n",
       "0                0.437356     632918                  632918   \n",
       "1                0.818153    1337943                 1970861   \n",
       "2                1.000000     731204                 2702065   \n",
       "\n",
       "   Frecuencia relativa e2  Estrato_1  Frecuencia absoluta e1  \\\n",
       "0                0.234235      74897                   74897   \n",
       "1                0.729391     302657                  377554   \n",
       "2                1.000000     210419                  587973   \n",
       "\n",
       "   Frecuencia relativa e1  \n",
       "0                0.127382  \n",
       "1                0.642128  \n",
       "2                1.000000  "
      ]
     },
     "execution_count": 44,
     "metadata": {},
     "output_type": "execute_result"
    }
   ],
   "source": [
    "# Calcular la sumatoria acumulada de cada columna de estrato\n",
    "for i in range(6, 0, -1):\n",
    "    column_name = f'Estrato_{i}'\n",
    "    cumulative_sum = Tabla_total_df[column_name].cumsum()\n",
    "    Tabla_total_df[f'Frecuencia absoluta e{i}'] = cumulative_sum\n",
    "\n",
    "# Calcular la frecuencia relativa para cada columna de estrato\n",
    "for i in range(6, 0, -1):\n",
    "    column_name = f'Frecuencia absoluta e{i}'\n",
    "    total_sum = Tabla_total_df[f'Estrato_{i}'].sum()\n",
    "    Tabla_total_df[f'Frecuencia relativa e{i}'] = Tabla_total_df[column_name] / total_sum\n",
    "\n",
    "nuevo_orden = ['Grupos', 'Estrato_6','Frecuencia absoluta e6', 'Frecuencia relativa e6',\n",
    "               'Estrato_5','Frecuencia absoluta e5', 'Frecuencia relativa e5',\n",
    "               'Estrato_4','Frecuencia absoluta e4', 'Frecuencia relativa e4',\n",
    "               'Estrato_3','Frecuencia absoluta e3', 'Frecuencia relativa e3',\n",
    "               'Estrato_2','Frecuencia absoluta e2', 'Frecuencia relativa e2',\n",
    "               'Estrato_1','Frecuencia absoluta e1','Frecuencia relativa e1']    \n",
    "Tabla_total_df = Tabla_total_df.reindex(columns=nuevo_orden)\n",
    "\n",
    "\n",
    "Tabla_total_df"
   ]
  },
  {
   "cell_type": "markdown",
   "id": "59bb2301",
   "metadata": {},
   "source": [
    "¿En qué estrato socioeconómico está la gente más educada? Las personas con Educación Superior o Posgrado están principalmente en los estratos 5 y 6."
   ]
  }
 ],
 "metadata": {
  "kernelspec": {
   "display_name": "Python 3 (ipykernel)",
   "language": "python",
   "name": "python3"
  },
  "language_info": {
   "codemirror_mode": {
    "name": "ipython",
    "version": 3
   },
   "file_extension": ".py",
   "mimetype": "text/x-python",
   "name": "python",
   "nbconvert_exporter": "python",
   "pygments_lexer": "ipython3",
   "version": "3.9.13"
  }
 },
 "nbformat": 4,
 "nbformat_minor": 5
}
